{
 "cells": [
  {
   "cell_type": "code",
   "execution_count": 1,
   "id": "47b6b00d",
   "metadata": {},
   "outputs": [],
   "source": [
    "import jax\n",
    "import jraph\n",
    "import numpy as np\n",
    "import jax.numpy as jnp"
   ]
  },
  {
   "cell_type": "markdown",
   "id": "f058879c",
   "metadata": {},
   "source": [
    "`jraph` stores graphs in the data type of `GraphsTuple`, which we can initialize by providing a lot of information:\n",
    "1. number of nodes, V\n",
    "2. number of edges, E\n",
    "3. node features, V * d_V\n",
    "4. edge features, E * d_E\n",
    "5. global features, G * d_G\n",
    "\n",
    "For directed graphs, we additionally have \n",
    "\n",
    "6. sender nodes, 1 * d_V\n",
    "7. receiver nodes, 1 * d_V"
   ]
  },
  {
   "cell_type": "code",
   "execution_count": 2,
   "id": "4a0c8acb",
   "metadata": {},
   "outputs": [],
   "source": [
    "n_node = jnp.array([3])\n",
    "n_edge = jnp.array([2])\n",
    "n_global = jnp.array([1])\n",
    "d_node = 4\n",
    "d_edge = 5\n",
    "d_global = 6\n",
    "node_feats = jnp.ones((n_node[0], d_node)) # nodes feature matrix\n",
    "edge_feats = jnp.ones((n_edge[0], d_edge)) # edges feature matrix\n",
    "global_feats = jnp.ones((n_global[0], d_global)) # global feature matrix\n",
    "sender_nodes = jnp.array([0, 1])\n",
    "receiver_nodes = jnp.array([2, 2]) # 0 -> 2 <- 1\n"
   ]
  },
  {
   "cell_type": "code",
   "execution_count": 3,
   "id": "84a5f28c",
   "metadata": {},
   "outputs": [
    {
     "data": {
      "text/plain": [
       "GraphsTuple(nodes=DeviceArray([[1., 1., 1., 1.],\n",
       "             [1., 1., 1., 1.],\n",
       "             [1., 1., 1., 1.]], dtype=float32), edges=DeviceArray([[1., 1., 1., 1., 1.],\n",
       "             [1., 1., 1., 1., 1.]], dtype=float32), receivers=DeviceArray([2, 2], dtype=int32), senders=DeviceArray([0, 1], dtype=int32), globals=DeviceArray([[1., 1., 1., 1., 1., 1.]], dtype=float32), n_node=DeviceArray([3], dtype=int32), n_edge=DeviceArray([2], dtype=int32))"
      ]
     },
     "execution_count": 3,
     "metadata": {},
     "output_type": "execute_result"
    }
   ],
   "source": [
    "single_graph = jraph.GraphsTuple(n_node=n_node, n_edge=n_edge, nodes=node_feats, edges=edge_feats,\n",
    "                                 globals=global_feats, senders=sender_nodes, receivers=receiver_nodes)\n",
    "single_graph"
   ]
  },
  {
   "cell_type": "code",
   "execution_count": 4,
   "id": "8b7f8586",
   "metadata": {},
   "outputs": [
    {
     "data": {
      "text/plain": [
       "GraphsTuple(nodes=DeviceArray([[1., 1., 1., 1.],\n",
       "             [1., 1., 1., 1.],\n",
       "             [1., 1., 1., 1.]], dtype=float32), edges=DeviceArray([[1., 1., 1., 1., 1.],\n",
       "             [1., 1., 1., 1., 1.]], dtype=float32), receivers=DeviceArray([2, 2], dtype=int32), senders=DeviceArray([0, 1], dtype=int32), globals=DeviceArray([[1., 1., 1., 1., 1., 1.]], dtype=float32), n_node=None, n_edge=None)"
      ]
     },
     "execution_count": 4,
     "metadata": {},
     "output_type": "execute_result"
    }
   ],
   "source": [
    "single_graph_ = jraph.GraphsTuple(n_node=None, n_edge=None, nodes=node_feats, edges=edge_feats,\n",
    "                                 globals=global_feats, senders=sender_nodes, receivers=receiver_nodes)\n",
    "single_graph_"
   ]
  },
  {
   "cell_type": "markdown",
   "id": "c3a53441",
   "metadata": {},
   "source": [
    "Curiously, it seems that we can omit providing some information when initializing and get away with it, and there's no automatic assignment for `n_node` and `n_edge` attributes?!"
   ]
  },
  {
   "cell_type": "markdown",
   "id": "501fe9cc",
   "metadata": {},
   "source": [
    "A graph neural network (GNN) is usually composed of iterative whole-graph updates (propagations). We now proceed to test define update functions for nodes, edges, and globals to be identity maps and then use them to initialize a GNN using pre-defined structures from the library.\n",
    "\n",
    "API for Jraph models can be found here: https://github.com/deepmind/jraph/blob/master/jraph/_src/models.py"
   ]
  },
  {
   "cell_type": "code",
   "execution_count": 5,
   "id": "b7448e4d",
   "metadata": {},
   "outputs": [],
   "source": [
    "def update_edge_fn(\n",
    "      edge_features,\n",
    "      sender_node_features,\n",
    "      receiver_node_features,\n",
    "      globals_):\n",
    "    return edge_features # identity!\n",
    "\n",
    "def update_node_fn(\n",
    "      node_features,\n",
    "      aggregated_sender_edge_features,\n",
    "      aggregated_receiver_edge_features,\n",
    "      globals_):\n",
    "    return node_features # identity!\n",
    "\n",
    "def update_globals_fn(\n",
    "      aggregated_node_features,\n",
    "      aggregated_edge_features,\n",
    "      globals_):\n",
    "    return globals_ # identity"
   ]
  },
  {
   "cell_type": "code",
   "execution_count": 6,
   "id": "dd71e106",
   "metadata": {},
   "outputs": [
    {
     "data": {
      "text/plain": [
       "<function jraph._src.models.GraphNetwork.<locals>._ApplyGraphNet(graph)>"
      ]
     },
     "execution_count": 6,
     "metadata": {},
     "output_type": "execute_result"
    }
   ],
   "source": [
    "test_gnn = jraph.GraphNetwork(update_edge_fn=update_edge_fn, \n",
    "                              update_node_fn=update_node_fn, \n",
    "                              update_global_fn=update_globals_fn)\n",
    "test_gnn"
   ]
  },
  {
   "cell_type": "code",
   "execution_count": 7,
   "id": "8b5d8d2e",
   "metadata": {},
   "outputs": [],
   "source": [
    "updated_graph = test_gnn(single_graph)"
   ]
  },
  {
   "cell_type": "code",
   "execution_count": 9,
   "id": "1e205500",
   "metadata": {},
   "outputs": [
    {
     "name": "stdout",
     "output_type": "stream",
     "text": [
      "GraphsTuple(nodes=DeviceArray([[1., 1., 1., 1.],\n",
      "             [1., 1., 1., 1.],\n",
      "             [1., 1., 1., 1.]], dtype=float32), edges=DeviceArray([[1., 1., 1., 1., 1.],\n",
      "             [1., 1., 1., 1., 1.]], dtype=float32), receivers=DeviceArray([2, 2], dtype=int32), senders=DeviceArray([0, 1], dtype=int32), globals=DeviceArray([[1., 1., 1., 1., 1., 1.]], dtype=float32), n_node=DeviceArray([3], dtype=int32), n_edge=DeviceArray([2], dtype=int32))\n"
     ]
    }
   ],
   "source": [
    "print(updated_graph)"
   ]
  },
  {
   "cell_type": "markdown",
   "id": "aabc98af",
   "metadata": {},
   "source": [
    "So we successfully performed an update and we see that the data was kept the same because we used identities for all component updates. Viola! Next, we work on a practical binary classification example using GNN."
   ]
  },
  {
   "cell_type": "markdown",
   "id": "4909cf88",
   "metadata": {},
   "source": [
    "For a context.... copied from jraph's official repo:\n",
    "```\n",
    "The ogbg-molhiv dataset is a molecular property prediction dataset.\n",
    "It is adopted from the MoleculeNet [1]. All the molecules are pre-processed\n",
    "using RDKit [2].\n",
    "\n",
    "Each graph represents a molecule, where nodes are atoms, and edges are chemical\n",
    "bonds. Input node features are 9-dimensional, containing atomic number and\n",
    "chirality, as well as other additional atom features such as formal charge and\n",
    "whether the atom is in the ring or not.\n",
    "The goal is to predict whether a molecule inhibits HIV virus replication or not.\n",
    "Performance is measured in ROC-AUC.\n",
    "\n",
    "This script uses a GraphNet to learn the prediction task.\n",
    "\n",
    "Refs:\n",
    "[1] Zhenqin Wu, Bharath Ramsundar, Evan N Feinberg, Joseph Gomes,\n",
    "Caleb Geniesse, Aneesh SPappu, Karl Leswing, and Vijay Pande.\n",
    "Moleculenet: a benchmark for molecular machine learning.\n",
    "Chemical Science, 9(2):513–530, 2018.\n",
    "[2] Greg Landrum et al. RDKit: Open-source cheminformatics, 2006.\n",
    "```"
   ]
  },
  {
   "cell_type": "code",
   "execution_count": 10,
   "id": "8e463d1d",
   "metadata": {},
   "outputs": [],
   "source": [
    "@jraph.concatenated_args\n",
    "def edge_update_fn(feats: jnp.ndarray) -> jnp.ndarray:\n",
    "    net = hk.Sequential(\n",
    "      [hk.Linear(128), jax.nn.relu,\n",
    "       hk.Linear(128)])\n",
    "    return net(feats)\n",
    "\n",
    "\n",
    "@jraph.concatenated_args\n",
    "def node_update_fn(feats: jnp.ndarray) -> jnp.ndarray:\n",
    "    \"\"\"Node update function for graph net.\"\"\"\n",
    "    net = hk.Sequential(\n",
    "      [hk.Linear(128), jax.nn.relu,\n",
    "       hk.Linear(128)])\n",
    "    return net(feats)\n",
    "\n",
    "\n",
    "@jraph.concatenated_args\n",
    "def update_global_fn(feats: jnp.ndarray) -> jnp.ndarray:\n",
    "    \"\"\"Global update function for graph net.\"\"\"\n",
    "    # Molhiv is a binary classification task, so output pos neg logits.\n",
    "    net = hk.Sequential(\n",
    "      [hk.Linear(128), jax.nn.relu,\n",
    "       hk.Linear(2)])\n",
    "    return net(feats)"
   ]
  },
  {
   "cell_type": "code",
   "execution_count": 11,
   "id": "9199057b",
   "metadata": {},
   "outputs": [],
   "source": [
    "def net_fn(graph: jraph.GraphsTuple) -> jraph.GraphsTuple:\n",
    "    \"\"\"Graph net function.\"\"\"\n",
    "    # Add a global paramater for graph classification.\n",
    "    graph = graph._replace(globals=jnp.zeros([graph.n_node.shape[0], 1]))\n",
    "    embedder = jraph.GraphMapFeatures(\n",
    "      hk.Linear(128), hk.Linear(128), hk.Linear(128))\n",
    "    net = jraph.GraphNetwork(\n",
    "      update_node_fn=node_update_fn,\n",
    "      update_edge_fn=edge_update_fn,\n",
    "      update_global_fn=update_global_fn)\n",
    "    return net(embedder(graph))"
   ]
  },
  {
   "cell_type": "code",
   "execution_count": 13,
   "id": "bef7d648",
   "metadata": {},
   "outputs": [],
   "source": [
    "# some util functions to lower amortized costs compiling the graph network for different input sizes\n",
    "def _nearest_bigger_power_of_two(x: int) -> int:\n",
    "    \"\"\"Computes the nearest power of two greater than x for padding.\"\"\"\n",
    "    y = 2\n",
    "    while y < x:\n",
    "        y *= 2\n",
    "    return y\n",
    "\n",
    "\n",
    "def pad_graph_to_nearest_power_of_two(\n",
    "    graphs_tuple: jraph.GraphsTuple) -> jraph.GraphsTuple:\n",
    "    \"\"\"Pads a batched `GraphsTuple` to the nearest power of two.\n",
    "    For example, if a `GraphsTuple` has 7 nodes, 5 edges and 3 graphs, this method\n",
    "    would pad the `GraphsTuple` nodes and edges:\n",
    "    7 nodes --> 8 nodes (2^3)\n",
    "    5 edges --> 8 edges (2^3)\n",
    "    And since padding is accomplished using `jraph.pad_with_graphs`, an extra\n",
    "    graph and node is added:\n",
    "    8 nodes --> 9 nodes\n",
    "    3 graphs --> 4 graphs\n",
    "    Args:\n",
    "    graphs_tuple: a batched `GraphsTuple` (can be batch size 1).\n",
    "    Returns:\n",
    "    A graphs_tuple batched to the nearest power of two.\n",
    "    \"\"\"\n",
    "    # Add 1 since we need at least one padding node for pad_with_graphs.\n",
    "    pad_nodes_to = _nearest_bigger_power_of_two(jnp.sum(graphs_tuple.n_node)) + 1\n",
    "    pad_edges_to = _nearest_bigger_power_of_two(jnp.sum(graphs_tuple.n_edge))\n",
    "    # Add 1 since we need at least one padding graph for pad_with_graphs.\n",
    "    # We do not pad to nearest power of two because the batch size is fixed.\n",
    "    pad_graphs_to = graphs_tuple.n_node.shape[0] + 1\n",
    "    return jraph.pad_with_graphs(graphs_tuple, pad_nodes_to, pad_edges_to,\n",
    "                               pad_graphs_to)"
   ]
  },
  {
   "cell_type": "code",
   "execution_count": null,
   "id": "ef3606e2",
   "metadata": {},
   "outputs": [],
   "source": []
  }
 ],
 "metadata": {
  "kernelspec": {
   "display_name": "Python [conda env:jax]",
   "language": "python",
   "name": "conda-env-jax-py"
  },
  "language_info": {
   "codemirror_mode": {
    "name": "ipython",
    "version": 3
   },
   "file_extension": ".py",
   "mimetype": "text/x-python",
   "name": "python",
   "nbconvert_exporter": "python",
   "pygments_lexer": "ipython3",
   "version": "3.10.8"
  }
 },
 "nbformat": 4,
 "nbformat_minor": 5
}

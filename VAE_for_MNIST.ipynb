{
 "cells": [
  {
   "cell_type": "code",
   "execution_count": 1,
   "id": "192540b9-56f4-4e25-b961-99adc7b8cb01",
   "metadata": {},
   "outputs": [
    {
     "name": "stdout",
     "output_type": "stream",
     "text": [
      "False\n"
     ]
    }
   ],
   "source": [
    "import torch\n",
    "import torch.nn as nn\n",
    "import torch.nn.functional as F\n",
    "import torch.optim as optim\n",
    "import numpy as np\n",
    "\n",
    "print(torch.cuda.is_available())\n"
   ]
  },
  {
   "cell_type": "code",
   "execution_count": 19,
   "id": "bec7d54e-9e23-4ae5-8c78-e9795ac32bd6",
   "metadata": {},
   "outputs": [],
   "source": [
    "from torchvision import datasets\n",
    "import torchvision.transforms as transforms\n",
    "\n",
    "# Download the MNIST datasets\n",
    "folder = \"data\"\n",
    "trainset = datasets.MNIST(folder, train=True, download=True)\n",
    "testset = datasets.MNIST(folder, train=False, download=True)"
   ]
  },
  {
   "cell_type": "code",
   "execution_count": 9,
   "id": "05316283-68f1-4c1d-9d81-07ac4b7cfd3a",
   "metadata": {},
   "outputs": [
    {
     "name": "stdout",
     "output_type": "stream",
     "text": [
      "Total number of training samples 60000\n",
      "Total number of testing samples 10000\n",
      "5\n",
      "Max pixel value 1.0, min pixel value 0.0\n"
     ]
    },
    {
     "data": {
      "image/png": "[encoded data removed]",
      "text/plain": [
       "<Figure size 432x288 with 1 Axes>"
      ]
     },
     "metadata": {
      "needs_background": "light"
     },
     "output_type": "display_data"
    }
   ],
   "source": [
    "import matplotlib.pyplot as plt\n",
    "from torchvision import transforms\n",
    "\n",
    "to_tensor = transforms.ToTensor()\n",
    "\n",
    "print(f\"Total number of training samples {len(trainset)}\")\n",
    "print(f\"Total number of testing samples {len(testset)}\")\n",
    "img, label = trainset[0]\n",
    "plt.imshow(img)\n",
    "print(label)\n",
    "print(f\"Max pixel value {to_tensor(img).max()}, min pixel value {to_tensor(img).min()}\")"
   ]
  },
  {
   "cell_type": "code",
   "execution_count": 20,
   "id": "599d4aac-fed5-4e66-a4a2-2d20ef9c2f05",
   "metadata": {},
   "outputs": [],
   "source": [
    "# preprocess the MNIST dataset by converting to tensor and normalizing the pixel values\n",
    "from torch.utils.data import DataLoader\n",
    "\n",
    "batch_size = 64\n",
    "\n",
    "train_loader = DataLoader(datasets.MNIST(folder, train=True, download=False,\n",
    "                                        transform=transforms.Compose([transforms.ToTensor(),\n",
    "                                                        transforms.Normalize((0.1307,), (0.3081,))\n",
    "                                                        ])), \n",
    "                          batch_size=batch_size)\n",
    "test_loader = DataLoader(datasets.MNIST(folder, train=False, download=False,\n",
    "                                        transform=transforms.Compose([transforms.ToTensor(),\n",
    "                                                        transforms.Normalize((0.1307,), (0.3081,))\n",
    "                                                        ])),\n",
    "                         batch_size=batch_size)"
   ]
  },
  {
   "cell_type": "code",
   "execution_count": null,
   "id": "52d9d2ec-1cbb-4b9a-b896-d36656aec6e7",
   "metadata": {},
   "outputs": [],
   "source": [
    "class Encoder(nn.Module):\n",
    "    # Basic implementation as MLP\n",
    "    def __init__(self, ninputs, nhidden):\n",
    "        super.__init__()\n",
    "        self.f1 = nn.Linear(ninputs, nhidden)\n",
    "        self.f2 = nn.Linear(nhidden, nhidden)\n",
    "        self.f3_mu = nn.Linear(nhidden, ninputs)\n",
    "        self.f3_sigma = nn.Linear(nhidden, ninputs)\n",
    "        self.f3_L = nn.Linear(nhidden, ninputs)\n",
    "    \n",
    "    def forward(self, x):\n",
    "        pass\n",
    "    \n",
    "class Decoder(nn.Module):\n",
    "    pass\n"
   ]
  }
 ],
 "metadata": {
  "kernelspec": {
   "display_name": "OLCF-base (ipykernel)",
   "language": "python",
   "name": "python3"
  },
  "language_info": {
   "codemirror_mode": {
    "name": "ipython",
    "version": 3
   },
   "file_extension": ".py",
   "mimetype": "text/x-python",
   "name": "python",
   "nbconvert_exporter": "python",
   "pygments_lexer": "ipython3",
   "version": "3.8.10"
  }
 },
 "nbformat": 4,
 "nbformat_minor": 5
}

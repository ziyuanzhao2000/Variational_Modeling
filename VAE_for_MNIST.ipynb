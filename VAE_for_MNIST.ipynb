{
 "cells": [
  {
   "cell_type": "code",
   "execution_count": 1,
   "id": "192540b9-56f4-4e25-b961-99adc7b8cb01",
   "metadata": {},
   "outputs": [
    {
     "name": "stdout",
     "output_type": "stream",
     "text": [
      "False\n"
     ]
    }
   ],
   "source": [
    "import torch\n",
    "import torch.nn as nn\n",
    "import torch.nn.functional as F\n",
    "import torch.optim as optim\n",
    "import numpy as np\n",
    "\n",
    "print(torch.cuda.is_available())\n"
   ]
  },
  {
   "cell_type": "code",
   "execution_count": 2,
   "id": "bec7d54e-9e23-4ae5-8c78-e9795ac32bd6",
   "metadata": {},
   "outputs": [],
   "source": [
    "from torchvision import datasets\n",
    "import torchvision.transforms as transforms\n",
    "\n",
    "# Download the MNIST datasets\n",
    "folder = \"data\"\n",
    "trainset = datasets.MNIST(folder, train=True, download=True)\n",
    "testset = datasets.MNIST(folder, train=False, download=True)"
   ]
  },
  {
   "cell_type": "code",
   "execution_count": 3,
   "id": "05316283-68f1-4c1d-9d81-07ac4b7cfd3a",
   "metadata": {},
   "outputs": [
    {
     "name": "stdout",
     "output_type": "stream",
     "text": [
      "Total number of training samples 60000\n",
      "Total number of testing samples 10000\n",
      "5\n",
      "Max pixel value 1.0, min pixel value 0.0\n"
     ]
    },
    {
     "data": {
      "image/png": "[encoded data removed]",
      "text/plain": [
       "<Figure size 640x480 with 1 Axes>"
      ]
     },
     "metadata": {},
     "output_type": "display_data"
    }
   ],
   "source": [
    "import matplotlib.pyplot as plt\n",
    "from torchvision import transforms\n",
    "\n",
    "to_tensor = transforms.ToTensor()\n",
    "\n",
    "print(f\"Total number of training samples {len(trainset)}\")\n",
    "print(f\"Total number of testing samples {len(testset)}\")\n",
    "img, label = trainset[0]\n",
    "plt.imshow(img)\n",
    "print(label)\n",
    "print(f\"Max pixel value {to_tensor(img).max()}, min pixel value {to_tensor(img).min()}\")"
   ]
  },
  {
   "cell_type": "code",
   "execution_count": 4,
   "id": "599d4aac-fed5-4e66-a4a2-2d20ef9c2f05",
   "metadata": {},
   "outputs": [],
   "source": [
    "# preprocess the MNIST dataset by converting to tensor and normalizing the pixel values\n",
    "from torch.utils.data import DataLoader\n",
    "\n",
    "batch_size = 128\n",
    "\n",
    "train_loader = DataLoader(datasets.MNIST(folder, train=True, download=False, transform=to_tensor), \n",
    "                          batch_size=batch_size,\n",
    "                          drop_last=True)\n",
    "test_loader = DataLoader(datasets.MNIST(folder, train=False, download=False, transform=to_tensor),\n",
    "                         batch_size=batch_size,\n",
    "                         drop_last=True)"
   ]
  },
  {
   "cell_type": "code",
   "execution_count": 5,
   "id": "52d9d2ec-1cbb-4b9a-b896-d36656aec6e7",
   "metadata": {},
   "outputs": [],
   "source": [
    "import numpy as np\n",
    "\n",
    "class Encoder(nn.Module):\n",
    "    # Basic implementation as MLP\n",
    "    def __init__(self, ninputs: int, nhidden: int, nlatent: int):\n",
    "        super().__init__()\n",
    "        self.ninputs = ninputs\n",
    "        self.nhidden = nhidden\n",
    "        nhidden2 = nhidden//2\n",
    "        self.f_z = nn.Sequential(nn.Linear(ninputs, nhidden),\n",
    "                                 nn.ReLU(),\n",
    "                                 nn.Linear(nhidden, nhidden2),\n",
    "                                 nn.ReLU())\n",
    "        self.f_mu = nn.Linear(nhidden2, nlatent)\n",
    "        self.f_sigma = nn.Linear(nhidden2, nlatent)\n",
    "        self.f_L = nn.Linear(nhidden2, nlatent * nlatent)\n",
    "        \n",
    "    def forward(self, x):\n",
    "        z_         = self.f_z(x)\n",
    "        mu         = self.f_mu(z_)\n",
    "        log_sigma  = self.f_sigma(z_)\n",
    "        L_         = self.f_L(z_)\n",
    "        return mu, log_sigma, L_\n",
    "\n",
    "class Decoder(nn.Module):\n",
    "    def __init__(self, ninputs: int, nhidden: int, nlatent: int):\n",
    "        super().__init__()\n",
    "        self.ninputs = ninputs\n",
    "        self.nhidden = nhidden\n",
    "        nhidden2 = nhidden//2\n",
    "        self.f = nn.Sequential(nn.Linear(nlatent, nhidden2),\n",
    "                               nn.ReLU(),\n",
    "                               nn.Linear(nhidden2, nhidden),\n",
    "                               nn.ReLU(),\n",
    "                               nn.Linear(nhidden, ninputs),\n",
    "                               nn.Sigmoid())\n",
    "        \n",
    "    def forward(self, z):\n",
    "        p = self.f(z)\n",
    "        return p\n",
    "\n",
    "class VAE(nn.Module):\n",
    "    def __init__(self, ninputs: int, nhidden: int, nlatent: int, nbatch: int, device):\n",
    "        super().__init__()\n",
    "        self.nbatch = nbatch\n",
    "        self.nlatent = nlatent\n",
    "        self.device = device\n",
    "        self.encoder = Encoder(ninputs, nhidden, nlatent)\n",
    "        self.decoder = Decoder(ninputs, nhidden, nlatent)\n",
    "        \n",
    "    def loss(self, x):\n",
    "        mu, log_sigma, L_ = self.encoder(x)\n",
    "        L          = torch.tril(L_.view((-1, self.nlatent, self.nlatent)), -1) + torch.diag_embed(torch.exp(log_sigma))\n",
    "        L          = torch.diag_embed(torch.exp(log_sigma))\n",
    "        eps        = torch.normal(torch.zeros((self.nbatch, self.nlatent, 1)), torch.ones((self.nbatch, self.nlatent, 1))).to(self.device)\n",
    "        z_         = torch.squeeze(torch.bmm(L, eps))\n",
    "        z          = z_ + mu\n",
    "        ELBO_logqz = -1/2*(torch.sum(eps*eps, dim=1) + self.nlatent*np.log(2*torch.pi) + torch.sum(log_sigma, dim=1))\n",
    "        ELBO_logpz = -1/2*(torch.sum(z*z, dim=1) + self.nlatent*np.log(2*torch.pi))\n",
    "        p = self.decoder(z)\n",
    "        ELBO_logpx = torch.sum(x*torch.log(p)+(1-x)*torch.log(1-p), dim=1)\n",
    "        ELBO = ELBO_logpx + ELBO_logpz - ELBO_logqz\n",
    "        return -torch.mean(ELBO)\n",
    "        \n",
    "        "
   ]
  },
  {
   "cell_type": "code",
   "execution_count": 9,
   "id": "2606d5ac-3c61-41a2-9130-ae84f2026944",
   "metadata": {},
   "outputs": [
    {
     "name": "stdout",
     "output_type": "stream",
     "text": [
      "784\n"
     ]
    }
   ],
   "source": [
    "img, label = trainset[0]\n",
    "ninputs = len(to_tensor(img).view(-1))\n",
    "print(ninputs)\n",
    "nhidden = 512\n",
    "nlatent = 5"
   ]
  },
  {
   "cell_type": "code",
   "execution_count": 17,
   "id": "0656e2a0-e5d6-494e-8c99-4a642b5bb1ce",
   "metadata": {},
   "outputs": [
    {
     "name": "stdout",
     "output_type": "stream",
     "text": [
      "Epoch 0, average ELBO estimate -234.86463928222656 (train), -190.19378662109375 (test).\n",
      "Epoch 1, average ELBO estimate -177.19129943847656 (train), -162.4114532470703 (test).\n",
      "Epoch 2, average ELBO estimate -152.77574157714844 (train), -146.55313110351562 (test).\n",
      "Epoch 3, average ELBO estimate -143.97503662109375 (train), -141.1051788330078 (test).\n",
      "Epoch 4, average ELBO estimate -139.5066375732422 (train), -137.495361328125 (test).\n",
      "Epoch 5, average ELBO estimate -136.38063049316406 (train), -134.77662658691406 (test).\n",
      "Epoch 6, average ELBO estimate -133.95184326171875 (train), -132.52781677246094 (test).\n",
      "Epoch 7, average ELBO estimate -131.93858337402344 (train), -130.75350952148438 (test).\n",
      "Epoch 8, average ELBO estimate -130.20132446289062 (train), -129.11708068847656 (test).\n",
      "Epoch 9, average ELBO estimate -128.73402404785156 (train), -127.84265899658203 (test).\n",
      "Epoch 10, average ELBO estimate -127.46198272705078 (train), -126.6576156616211 (test).\n",
      "Epoch 11, average ELBO estimate -126.38488006591797 (train), -125.63697052001953 (test).\n",
      "Epoch 12, average ELBO estimate -125.4813232421875 (train), -124.9155044555664 (test).\n",
      "Epoch 13, average ELBO estimate -124.65504455566406 (train), -124.40869140625 (test).\n",
      "Epoch 14, average ELBO estimate -123.90999603271484 (train), -123.52861785888672 (test).\n",
      "Epoch 15, average ELBO estimate -123.22505187988281 (train), -122.89763641357422 (test).\n",
      "Epoch 16, average ELBO estimate -122.62509155273438 (train), -122.44831848144531 (test).\n",
      "Epoch 17, average ELBO estimate -122.05937957763672 (train), -121.90994262695312 (test).\n",
      "Epoch 18, average ELBO estimate -121.52510833740234 (train), -121.35138702392578 (test).\n",
      "Epoch 19, average ELBO estimate -121.05635833740234 (train), -121.01995849609375 (test).\n",
      "Epoch 20, average ELBO estimate -120.59859466552734 (train), -120.54165649414062 (test).\n",
      "Epoch 21, average ELBO estimate -120.17948913574219 (train), -120.21273040771484 (test).\n",
      "Epoch 22, average ELBO estimate -119.78810119628906 (train), -119.75054931640625 (test).\n",
      "Epoch 23, average ELBO estimate -119.38864135742188 (train), -119.53841400146484 (test).\n",
      "Epoch 24, average ELBO estimate -119.03599548339844 (train), -119.22943878173828 (test).\n",
      "Epoch 25, average ELBO estimate -118.67595672607422 (train), -118.87065887451172 (test).\n",
      "Epoch 26, average ELBO estimate -118.35449981689453 (train), -118.62152862548828 (test).\n",
      "Epoch 27, average ELBO estimate -118.04950714111328 (train), -118.35161590576172 (test).\n",
      "Epoch 28, average ELBO estimate -117.76228332519531 (train), -118.10629272460938 (test).\n",
      "Epoch 29, average ELBO estimate -117.48497772216797 (train), -117.88351440429688 (test).\n"
     ]
    }
   ],
   "source": [
    "# training loop\n",
    "n_epochs = 30\n",
    "device = 'cpu'\n",
    "model = VAE(ninputs, nhidden, nlatent, batch_size, device).to(device)\n",
    "#nn.init.uniform_(model.encoder.f_L.weight, 0, 0) \n",
    "#nn.init.uniform_(model.encoder.f_L.bias, 0, 0)\n",
    "nn.init.uniform_(model.encoder.f_sigma.weight, 0, 0)\n",
    "nn.init.uniform_(model.encoder.f_sigma.bias, 0, 0)\n",
    "\n",
    "learning_rate = 1e-4\n",
    "#optimizer = optim.SGD(model.parameters(), lr=learning_rate)\n",
    "optimizer = optim.Adam(model.parameters(), lr=learning_rate)\n",
    "\n",
    "n_batch_train = len(train_loader)\n",
    "n_batch_test  = len(test_loader)\n",
    "for epoch in range(n_epochs):\n",
    "    train_loss = 0\n",
    "    for imgs, _ in train_loader:\n",
    "        imgs = imgs.to(device)\n",
    "        imgs = imgs.view(imgs.shape[0], -1)\n",
    "        loss = model.loss(imgs)\n",
    "        optimizer.zero_grad()\n",
    "        loss.backward()\n",
    "        optimizer.step()\n",
    "        train_loss += loss\n",
    "        \n",
    "    with torch.no_grad():\n",
    "        test_loss = 0\n",
    "        for imgs, _ in test_loader:\n",
    "            imgs = imgs.to(device)\n",
    "            imgs = imgs.view(imgs.shape[0], -1)\n",
    "            loss = model.loss(imgs)\n",
    "            test_loss += loss\n",
    "    \n",
    "    print(f\"Epoch {epoch}, average ELBO estimate {-train_loss/n_batch_train} (train), {-test_loss/n_batch_test} (test).\")"
   ]
  },
  {
   "cell_type": "code",
   "execution_count": 16,
   "id": "03f9e631-bee2-4eac-8819-bb6676a1e291",
   "metadata": {},
   "outputs": [],
   "source": [
    "from torchvision.utils import save_image\n",
    "\n",
    "with torch.no_grad():\n",
    "    z = torch.randn((batch_size, nlatent))\n",
    "    sample = model.decoder(z)\n",
    "    \n",
    "save_image(sample.view(batch_size, 1, 28, 28), './MNIST_gen.png')"
   ]
  },
  {
   "cell_type": "code",
   "execution_count": null,
   "id": "e910262f-b665-43c6-a278-5fb904fcefd5",
   "metadata": {},
   "outputs": [],
   "source": []
  }
 ],
 "metadata": {
  "kernelspec": {
   "display_name": "Python [conda env:miniconda3-pytorch_clean]",
   "language": "python",
   "name": "conda-env-miniconda3-pytorch_clean-py"
  },
  "language_info": {
   "codemirror_mode": {
    "name": "ipython",
    "version": 3
   },
   "file_extension": ".py",
   "mimetype": "text/x-python",
   "name": "python",
   "nbconvert_exporter": "python",
   "pygments_lexer": "ipython3",
   "version": "3.10.6"
  }
 },
 "nbformat": 4,
 "nbformat_minor": 5
}

{
 "cells": [
  {
   "cell_type": "code",
   "execution_count": 1,
   "id": "192540b9-56f4-4e25-b961-99adc7b8cb01",
   "metadata": {},
   "outputs": [
    {
     "name": "stdout",
     "output_type": "stream",
     "text": [
      "True\n"
     ]
    }
   ],
   "source": [
    "import torch\n",
    "import torch.nn as nn\n",
    "import torch.nn.functional as F\n",
    "import torch.optim as optim\n",
    "import numpy as np\n",
    "\n",
    "print(torch.cuda.is_available())\n"
   ]
  },
  {
   "cell_type": "code",
   "execution_count": 2,
   "id": "bec7d54e-9e23-4ae5-8c78-e9795ac32bd6",
   "metadata": {},
   "outputs": [],
   "source": [
    "from torchvision import datasets\n",
    "import torchvision.transforms as transforms\n",
    "\n",
    "# Download the MNIST datasets\n",
    "folder = \"data\"\n",
    "trainset = datasets.MNIST(folder, train=True, download=True)\n",
    "testset = datasets.MNIST(folder, train=False, download=True)"
   ]
  },
  {
   "cell_type": "code",
   "execution_count": 3,
   "id": "05316283-68f1-4c1d-9d81-07ac4b7cfd3a",
   "metadata": {},
   "outputs": [
    {
     "name": "stdout",
     "output_type": "stream",
     "text": [
      "Total number of training samples 60000\n",
      "Total number of testing samples 10000\n",
      "5\n",
      "Max pixel value 1.0, min pixel value 0.0\n"
     ]
    },
    {
     "data": {
      "image/png": "[encoded data removed]",
      "text/plain": [
       "<Figure size 640x480 with 1 Axes>"
      ]
     },
     "metadata": {},
     "output_type": "display_data"
    }
   ],
   "source": [
    "import matplotlib.pyplot as plt\n",
    "from torchvision import transforms\n",
    "\n",
    "to_tensor = transforms.ToTensor()\n",
    "\n",
    "print(f\"Total number of training samples {len(trainset)}\")\n",
    "print(f\"Total number of testing samples {len(testset)}\")\n",
    "img, label = trainset[0]\n",
    "plt.imshow(img)\n",
    "print(label)\n",
    "print(f\"Max pixel value {to_tensor(img).max()}, min pixel value {to_tensor(img).min()}\")"
   ]
  },
  {
   "cell_type": "code",
   "execution_count": 4,
   "id": "599d4aac-fed5-4e66-a4a2-2d20ef9c2f05",
   "metadata": {},
   "outputs": [],
   "source": [
    "# preprocess the MNIST dataset by converting to tensor and normalizing the pixel values\n",
    "from torch.utils.data import DataLoader\n",
    "\n",
    "batch_size = 128\n",
    "\n",
    "train_loader = DataLoader(datasets.MNIST(folder, train=True, download=False, transform=to_tensor), \n",
    "                          batch_size=batch_size,\n",
    "                          drop_last=True)\n",
    "test_loader = DataLoader(datasets.MNIST(folder, train=False, download=False, transform=to_tensor),\n",
    "                         batch_size=batch_size,\n",
    "                         drop_last=True)"
   ]
  },
  {
   "cell_type": "code",
   "execution_count": 12,
   "id": "52d9d2ec-1cbb-4b9a-b896-d36656aec6e7",
   "metadata": {},
   "outputs": [],
   "source": [
    "import numpy as np\n",
    "\n",
    "class Encoder(nn.Module):\n",
    "    # Basic implementation as MLP\n",
    "    def __init__(self, ninputs: int, nhidden: int, nlatent: int):\n",
    "        super().__init__()\n",
    "        self.ninputs = ninputs\n",
    "        self.nhidden = nhidden\n",
    "        nhidden2 = nhidden//2\n",
    "        self.f_z = nn.Sequential(nn.Linear(ninputs, nhidden),\n",
    "                                 nn.ReLU(),\n",
    "                                 nn.Linear(nhidden, nhidden2),\n",
    "                                 nn.ReLU())\n",
    "        self.f_mu = nn.Linear(nhidden2, nlatent)\n",
    "        self.f_sigma = nn.Linear(nhidden2, nlatent)\n",
    "        self.f_L = nn.Linear(nhidden2, nlatent * nlatent)\n",
    "        \n",
    "    def forward(self, x):\n",
    "        z_         = self.f_z(x)\n",
    "        mu         = self.f_mu(z_)\n",
    "        log_sigma  = self.f_sigma(z_)\n",
    "        L_         = self.f_L(z_)\n",
    "        return mu, log_sigma, L_\n",
    "\n",
    "class Decoder(nn.Module):\n",
    "    def __init__(self, ninputs: int, nhidden: int, nlatent: int):\n",
    "        super().__init__()\n",
    "        self.ninputs = ninputs\n",
    "        self.nhidden = nhidden\n",
    "        nhidden2 = nhidden//2\n",
    "        self.f = nn.Sequential(nn.Linear(nlatent, nhidden2),\n",
    "                               nn.ReLU(),\n",
    "                               nn.Linear(nhidden2, nhidden),\n",
    "                               nn.ReLU(),\n",
    "                               nn.Linear(nhidden, ninputs),\n",
    "                               nn.Sigmoid())\n",
    "        \n",
    "    def forward(self, z):\n",
    "        p = self.f(z)\n",
    "        return p\n",
    "\n",
    "class VAE(nn.Module):\n",
    "    def __init__(self, ninputs: int, nhidden: int, nlatent: int, nbatch: int, device):\n",
    "        super().__init__()\n",
    "        self.nbatch = nbatch\n",
    "        self.nlatent = nlatent\n",
    "        self.device = device\n",
    "        self.encoder = Encoder(ninputs, nhidden, nlatent)\n",
    "        self.decoder = Decoder(ninputs, nhidden, nlatent)\n",
    "        \n",
    "    def loss(self, x):\n",
    "        mu, log_sigma, L_ = self.encoder(x)\n",
    "        L          = torch.tril(L_.view((-1, self.nlatent, self.nlatent)), -1) + torch.diag_embed(torch.exp(log_sigma))\n",
    "        L          = torch.diag_embed(torch.exp(log_sigma))\n",
    "        eps        = torch.normal(torch.zeros((self.nbatch, self.nlatent, 1)), torch.ones((self.nbatch, self.nlatent, 1))).to(self.device)\n",
    "        z_         = torch.squeeze(torch.bmm(L, eps))\n",
    "        z          = z_ + mu\n",
    "        ELBO_logqz = -1/2*(torch.sum(eps*eps, dim=1) + self.nlatent*np.log(2*torch.pi) + torch.sum(log_sigma, dim=1))\n",
    "        ELBO_logpz = -1/2*(torch.sum(z*z, dim=1) + self.nlatent*np.log(2*torch.pi))\n",
    "        p = self.decoder(z)\n",
    "        ELBO_logpx = torch.sum(x*torch.log(p)+(1-x)*torch.log(1-p), dim=1)\n",
    "        ELBO = ELBO_logpx + ELBO_logpz - ELBO_logqz\n",
    "        return -torch.mean(ELBO)\n",
    "        \n",
    "        "
   ]
  },
  {
   "cell_type": "code",
   "execution_count": 8,
   "id": "2606d5ac-3c61-41a2-9130-ae84f2026944",
   "metadata": {},
   "outputs": [
    {
     "name": "stdout",
     "output_type": "stream",
     "text": [
      "784\n"
     ]
    }
   ],
   "source": [
    "img, label = trainset[0]\n",
    "ninputs = len(to_tensor(img).view(-1))\n",
    "print(ninputs)\n",
    "nhidden = 512\n",
    "nlatent = 2"
   ]
  },
  {
   "cell_type": "code",
   "execution_count": null,
   "id": "0656e2a0-e5d6-494e-8c99-4a642b5bb1ce",
   "metadata": {},
   "outputs": [
    {
     "name": "stdout",
     "output_type": "stream",
     "text": [
      "Epoch 0, average ELBO estimate -106209.9375 (train), -15868.29296875 (test).\n",
      "Epoch 1, average ELBO estimate -93219.0703125 (train), -15302.6552734375 (test).\n",
      "Epoch 2, average ELBO estimate -89726.734375 (train), -15001.84375 (test).\n",
      "Epoch 3, average ELBO estimate -88454.59375 (train), -14844.0546875 (test).\n",
      "Epoch 4, average ELBO estimate -87631.140625 (train), -14678.935546875 (test).\n",
      "Epoch 5, average ELBO estimate -86993.3046875 (train), -14558.3671875 (test).\n",
      "Epoch 6, average ELBO estimate -84665.640625 (train), -14015.3447265625 (test).\n",
      "Epoch 7, average ELBO estimate -82744.9453125 (train), -13761.1904296875 (test).\n",
      "Epoch 8, average ELBO estimate -81657.921875 (train), -13555.6484375 (test).\n",
      "Epoch 9, average ELBO estimate -80601.5703125 (train), -13377.1787109375 (test).\n",
      "Epoch 10, average ELBO estimate -79711.6328125 (train), -13245.03125 (test).\n",
      "Epoch 11, average ELBO estimate -79017.125 (train), -13204.4248046875 (test).\n",
      "Epoch 12, average ELBO estimate -78454.4375 (train), -13071.158203125 (test).\n",
      "Epoch 13, average ELBO estimate -77959.4609375 (train), -12970.4736328125 (test).\n",
      "Epoch 14, average ELBO estimate -77521.5625 (train), -12940.5390625 (test).\n",
      "Epoch 15, average ELBO estimate -77134.765625 (train), -12834.662109375 (test).\n",
      "Epoch 16, average ELBO estimate -76764.1640625 (train), -12794.89453125 (test).\n",
      "Epoch 17, average ELBO estimate -76411.6328125 (train), -12722.7939453125 (test).\n",
      "Epoch 18, average ELBO estimate -76111.3125 (train), -12697.1005859375 (test).\n",
      "Epoch 19, average ELBO estimate -75794.8828125 (train), -12657.8408203125 (test).\n",
      "Epoch 20, average ELBO estimate -75525.09375 (train), -12582.4716796875 (test).\n",
      "Epoch 21, average ELBO estimate -75258.0 (train), -12618.6923828125 (test).\n",
      "Epoch 22, average ELBO estimate -74997.6015625 (train), -12604.9541015625 (test).\n",
      "Epoch 23, average ELBO estimate -74732.9296875 (train), -12531.3466796875 (test).\n",
      "Epoch 24, average ELBO estimate -74503.65625 (train), -12453.4638671875 (test).\n"
     ]
    }
   ],
   "source": [
    "# training loop\n",
    "n_epochs = 100\n",
    "device = 'cpu'\n",
    "model = VAE(ninputs, nhidden, nlatent, batch_size, device).to(device)\n",
    "nn.init.uniform_(model.encoder.f_L.weight, 0, 0) \n",
    "nn.init.uniform_(model.encoder.f_L.bias, 0, 0) \n",
    "\n",
    "learning_rate = 1e-3\n",
    "optimizer = optim.SGD(model.parameters(), lr=learning_rate)\n",
    "#optimizer = optim.Adam(model.parameters())\n",
    "\n",
    "n_batch_train = len(train_loader)\n",
    "n_batch_test  = len(test_loader)\n",
    "for epoch in range(n_epochs):\n",
    "    train_loss = 0\n",
    "    for imgs, _ in train_loader:\n",
    "        imgs = imgs.to(device)\n",
    "        imgs = imgs.view(imgs.shape[0], -1)\n",
    "        loss = model.loss(imgs)\n",
    "        optimizer.zero_grad()\n",
    "        loss.backward()\n",
    "        optimizer.step()\n",
    "        train_loss += loss\n",
    "        \n",
    "    with torch.no_grad():\n",
    "        test_loss = 0\n",
    "        for imgs, _ in test_loader:\n",
    "            imgs = imgs.to(device)\n",
    "            imgs = imgs.view(imgs.shape[0], -1)\n",
    "            loss = model.loss(imgs)\n",
    "            test_loss += loss\n",
    "    \n",
    "    print(f\"Epoch {epoch}, average ELBO estimate {train_loss/n_batch_train} (train), {-test_loss/n_batch_test} (test).\")"
   ]
  },
  {
   "cell_type": "code",
   "execution_count": 16,
   "id": "03f9e631-bee2-4eac-8819-bb6676a1e291",
   "metadata": {},
   "outputs": [],
   "source": [
    "from torchvision.utils import save_image\n",
    "\n",
    "with torch.no_grad():\n",
    "    z = torch.randn((batch_size, nlatent))\n",
    "    sample = model.decoder(z)\n",
    "    \n",
    "save_image(sample.view(batch_size, 1, 28, 28), './MNIST_gen.png')"
   ]
  }
 ],
 "metadata": {
  "kernelspec": {
   "display_name": "Python [conda env:miniconda3-pytorch_clean]",
   "language": "python",
   "name": "conda-env-miniconda3-pytorch_clean-py"
  },
  "language_info": {
   "codemirror_mode": {
    "name": "ipython",
    "version": 3
   },
   "file_extension": ".py",
   "mimetype": "text/x-python",
   "name": "python",
   "nbconvert_exporter": "python",
   "pygments_lexer": "ipython3",
   "version": "3.10.6"
  }
 },
 "nbformat": 4,
 "nbformat_minor": 5
}

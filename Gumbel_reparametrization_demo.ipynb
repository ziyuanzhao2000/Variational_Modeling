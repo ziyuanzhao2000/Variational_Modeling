{
 "cells": [
  {
   "cell_type": "code",
   "execution_count": 1,
   "id": "54d4876d",
   "metadata": {},
   "outputs": [],
   "source": [
    "import jax \n",
    "import jax.numpy as jnp\n",
    "from jax.random import gumbel\n",
    "import optax\n",
    "import haiku as hk\n",
    "import numpy as np"
   ]
  },
  {
   "cell_type": "markdown",
   "id": "d848cc5e",
   "metadata": {},
   "source": [
    "Given class probabilities $p_1, \\dots, p_n$, we can approximate the categorical distribution over these probabilities using a Gumbel softmax distribution as described in the paper, and this is a distribution over the probability n-simplex. Taking argmax allows us to obtain discrete value and we can use the straight through gumbel softmax estimator for gradient updates.\n",
    "\n",
    "We first code up the gumbel softmax distribution in haiku and visualizes it at different temperatures."
   ]
  },
  {
   "cell_type": "code",
   "execution_count": 2,
   "id": "7758ff0a",
   "metadata": {},
   "outputs": [],
   "source": [
    "class GumbelSoftmax(hk.Module):\n",
    "    def __init__(self, probas, name=None):\n",
    "        super().__init__(name)\n",
    "        assert jnp.sum(probabs) == 1.\n",
    "        self.log_probas = jnp.log(probas)\n",
    "        self.N = len(probabs)\n",
    "        \n",
    "    def __call__(self):\n",
    "        g = gumbel(hk.next_rng_key(), shape=self.N)\n",
    "        pass"
   ]
  },
  {
   "cell_type": "code",
   "execution_count": 3,
   "id": "1f71db1e",
   "metadata": {},
   "outputs": [],
   "source": [
    "def f(key, logits):\n",
    "    return ((jax.random.categorical(key, logits))**2).astype('float32')"
   ]
  },
  {
   "cell_type": "code",
   "execution_count": 4,
   "id": "d7052a3d",
   "metadata": {},
   "outputs": [
    {
     "data": {
      "text/plain": [
       "DeviceArray([-1.609438, -1.609438, -1.609438, -1.609438, -1.609438], dtype=float32)"
      ]
     },
     "execution_count": 4,
     "metadata": {},
     "output_type": "execute_result"
    }
   ],
   "source": [
    "logits = jnp.log(jnp.array([1/5, 1/5, 1/5, 1/5, 1/5]))\n",
    "logits"
   ]
  },
  {
   "cell_type": "code",
   "execution_count": 5,
   "id": "482d374c",
   "metadata": {},
   "outputs": [
    {
     "data": {
      "text/plain": [
       "DeviceArray([0., 0., 0., 0., 0.], dtype=float32)"
      ]
     },
     "execution_count": 5,
     "metadata": {},
     "output_type": "execute_result"
    }
   ],
   "source": [
    "f_grad = jax.grad(f, argnums=1)\n",
    "rng_key = jax.random.PRNGKey(48)\n",
    "f_grad(rng_key, logits)"
   ]
  },
  {
   "cell_type": "code",
   "execution_count": 6,
   "id": "80243bd4",
   "metadata": {},
   "outputs": [],
   "source": [
    "def ArgmaxGumbelSoftmax(key, logits, tau=1):\n",
    "    g = jax.random.gumbel(key, shape=logits.shape)\n",
    "    z = (g + logits) / tau\n",
    "    y = jax.nn.softmax(z)\n",
    "    zero = y - jax.lax.stop_gradient(y)\n",
    "    return (zero + jax.lax.stop_gradient(jnp.argmax(y)))[0]"
   ]
  },
  {
   "cell_type": "code",
   "execution_count": 7,
   "id": "7b3aa617",
   "metadata": {},
   "outputs": [
    {
     "data": {
      "text/plain": [
       "array([201., 199., 198., 190., 212.])"
      ]
     },
     "execution_count": 7,
     "metadata": {},
     "output_type": "execute_result"
    }
   ],
   "source": [
    "counts = np.zeros([5])\n",
    "for i in range(1000):\n",
    "    y_ = ArgmaxGumbelSoftmax(jax.random.PRNGKey(i), logits, tau=0.001)\n",
    "    counts[int(y_)] += 1   \n",
    "counts"
   ]
  },
  {
   "cell_type": "code",
   "execution_count": 9,
   "id": "23653b1e",
   "metadata": {},
   "outputs": [],
   "source": [
    "def f(key, logits):\n",
    "    return (ArgmaxGumbelSoftmax(key, logits))**2"
   ]
  },
  {
   "cell_type": "code",
   "execution_count": 10,
   "id": "2d1e0ba4",
   "metadata": {},
   "outputs": [
    {
     "data": {
      "text/plain": [
       "DeviceArray([ 0.46325743, -0.09352899, -0.34142467, -0.00644364,\n",
       "             -0.02186022], dtype=float32)"
      ]
     },
     "execution_count": 10,
     "metadata": {},
     "output_type": "execute_result"
    }
   ],
   "source": [
    "jax.grad(f, argnums=1)(rng_key, logits)"
   ]
  },
  {
   "cell_type": "code",
   "execution_count": 11,
   "id": "f58b9982",
   "metadata": {},
   "outputs": [
    {
     "data": {
      "text/plain": [
       "DeviceArray([ 0.11581436, -0.02338225, -0.08535617, -0.00161091,\n",
       "             -0.00546505], dtype=float32)"
      ]
     },
     "execution_count": 11,
     "metadata": {},
     "output_type": "execute_result"
    }
   ],
   "source": [
    "jax.grad(ArgmaxGumbelSoftmax, argnums=1)(rng_key, logits)"
   ]
  },
  {
   "cell_type": "code",
   "execution_count": null,
   "id": "f7200423",
   "metadata": {},
   "outputs": [],
   "source": []
  }
 ],
 "metadata": {
  "kernelspec": {
   "display_name": "Python [conda env:jax]",
   "language": "python",
   "name": "conda-env-jax-py"
  },
  "language_info": {
   "codemirror_mode": {
    "name": "ipython",
    "version": 3
   },
   "file_extension": ".py",
   "mimetype": "text/x-python",
   "name": "python",
   "nbconvert_exporter": "python",
   "pygments_lexer": "ipython3",
   "version": "3.10.8"
  }
 },
 "nbformat": 4,
 "nbformat_minor": 5
}
